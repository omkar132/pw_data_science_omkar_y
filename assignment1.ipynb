{
 "cells": [
  {
   "cell_type": "code",
   "execution_count": 1,
   "id": "606690a1-9c02-4aa1-a41e-a28d40a3de24",
   "metadata": {},
   "outputs": [],
   "source": [
    "a=\"omkar\"\n",
    "b=[1,2,3,4,\"omkar\",\"india\"]\n",
    "c=21.23\n",
    "d=('omkar',2,3,22.34)\n"
   ]
  },
  {
   "cell_type": "code",
   "execution_count": 4,
   "id": "94f37a64-8f07-4fbb-b0ed-3b92ab55d4a3",
   "metadata": {},
   "outputs": [
    {
     "name": "stdout",
     "output_type": "stream",
     "text": [
      "omkar\n",
      "[1, 2, 3, 4, 'omkar', 'india']\n",
      "21.23\n",
      "('omkar', 2, 3, 22.34)\n"
     ]
    }
   ],
   "source": [
    "print (a)\n",
    "print (b)\n",
    "print (c)\n",
    "print (d)"
   ]
  },
  {
   "cell_type": "code",
   "execution_count": 15,
   "id": "b8d0fda3-4940-431c-a8d6-7db08f810f1a",
   "metadata": {},
   "outputs": [
    {
     "name": "stdout",
     "output_type": "stream",
     "text": [
      "<class 'str'>\n",
      "<class 'str'>\n",
      "<class 'list'>\n",
      "<class 'int'>\n"
     ]
    }
   ],
   "source": [
    "var1=''\n",
    "var2 = '[ DS , ML , Python]'\n",
    "var3 = [ 'DS' , 'ML' , 'Python' ]\n",
    "var4=1\n",
    "print(type(var1))\n",
    "print(type(var2))\n",
    "print(type(var3))\n",
    "print(type(var4))"
   ]
  },
  {
   "cell_type": "code",
   "execution_count": null,
   "id": "40d273db-6f86-410e-9568-51460479210a",
   "metadata": {},
   "outputs": [],
   "source": []
  },
  {
   "cell_type": "code",
   "execution_count": null,
   "id": "b76e4571-f2da-4e2e-a5ca-e982e9ed2d7b",
   "metadata": {},
   "outputs": [],
   "source": []
  },
  {
   "cell_type": "code",
   "execution_count": 8,
   "id": "1932db55-9fa4-41a8-b09e-5ebcde0cc189",
   "metadata": {},
   "outputs": [
    {
     "name": "stdout",
     "output_type": "stream",
     "text": [
      " Q3. Explain the use of the following operators using an example: \n"
     ]
    }
   ],
   "source": [
    "\n",
    "print(' Q3. Explain the use of the following operators using an example: ')\n",
    "      \n",
    "        "
   ]
  },
  {
   "cell_type": "code",
   "execution_count": 9,
   "id": "10e70414-5ee6-41c5-8c14-3ce7334b02a2",
   "metadata": {},
   "outputs": [],
   "source": [
    "a=2/2"
   ]
  },
  {
   "cell_type": "code",
   "execution_count": 10,
   "id": "19be8614-1e88-4058-a496-1089133e574e",
   "metadata": {},
   "outputs": [
    {
     "data": {
      "text/plain": [
       "1.0"
      ]
     },
     "execution_count": 10,
     "metadata": {},
     "output_type": "execute_result"
    }
   ],
   "source": [
    "a"
   ]
  },
  {
   "cell_type": "code",
   "execution_count": null,
   "id": "16bff66f-49fd-415e-b5d3-13f89e772068",
   "metadata": {},
   "outputs": [],
   "source": [
    "it division operator it gives multiples\n"
   ]
  },
  {
   "cell_type": "code",
   "execution_count": 11,
   "id": "21862768-6a77-49a5-9a12-c74a4a29b243",
   "metadata": {},
   "outputs": [],
   "source": [
    "a=2%2"
   ]
  },
  {
   "cell_type": "code",
   "execution_count": 12,
   "id": "37bbc575-93a2-4aa1-9c53-e5481533e6c0",
   "metadata": {},
   "outputs": [
    {
     "name": "stdout",
     "output_type": "stream",
     "text": [
      "0\n"
     ]
    }
   ],
   "source": [
    "print(a)"
   ]
  },
  {
   "cell_type": "code",
   "execution_count": 14,
   "id": "2682036f-68e9-4e97-bdcd-441980700d6b",
   "metadata": {},
   "outputs": [
    {
     "name": "stdout",
     "output_type": "stream",
     "text": [
      "it gives remainder it is called mod operator\n"
     ]
    }
   ],
   "source": [
    "print('it gives remainder it is called mod operator')\n"
   ]
  },
  {
   "cell_type": "code",
   "execution_count": 20,
   "id": "704f1e35-6b79-4d51-a590-d0bc8f40f944",
   "metadata": {},
   "outputs": [
    {
     "name": "stdout",
     "output_type": "stream",
     "text": [
      "2\n",
      "the floor division // rounds the result down to the nearest whole number\n"
     ]
    }
   ],
   "source": [
    "a=12//5\n",
    "print(a)\n",
    "print('the floor division // rounds the result down to the nearest whole number')"
   ]
  },
  {
   "cell_type": "code",
   "execution_count": 25,
   "id": "86174163-e4e6-493f-a6b8-171aadab165f",
   "metadata": {},
   "outputs": [
    {
     "name": "stdout",
     "output_type": "stream",
     "text": [
      "32\n",
      "exponential operator work as exponent of number such as squareroot\n"
     ]
    }
   ],
   "source": [
    "a=2**5\n",
    "print(a)\n",
    "print('exponential operator work as exponent of number such as squareroot')"
   ]
  },
  {
   "cell_type": "code",
   "execution_count": 10,
   "id": "0bdec3f3-9011-479f-9a6b-9df8ab6bf6f6",
   "metadata": {},
   "outputs": [
    {
     "name": "stdout",
     "output_type": "stream",
     "text": [
      "Q4. Create a list of length 10 of your choice containing multiple types of data. Using for loop print the element and its data type\n",
      "omkar\n",
      "<class 'str'>\n",
      "1\n",
      "<class 'int'>\n",
      "2.23\n",
      "<class 'float'>\n",
      "1j\n",
      "<class 'complex'>\n",
      "['a', 'omkar', 1, 2]\n",
      "<class 'list'>\n",
      "('a', 'omk', 2, 2.25)\n",
      "<class 'tuple'>\n",
      "True\n",
      "<class 'bool'>\n",
      "range(0, 6)\n",
      "<class 'range'>\n",
      "{'name': 'omkar', 'age': 26}\n",
      "<class 'dict'>\n",
      "{'apple', 'banana', 'cherry'}\n",
      "<class 'set'>\n"
     ]
    }
   ],
   "source": [
    "print('Q4. Create a list of length 10 of your choice containing multiple types of data. Using for loop print the element and its data type')\n",
    "l=['omkar',1,2.23,1j,['a','omkar',1,2],('a','omk',2,2.25),bool(5),range(6),dict(name=\"omkar\", age=26),set((\"apple\", \"banana\", \"cherry\"))]\n",
    "for i in l:\n",
    "    print(i) \n",
    "    print(type(i))\n",
    "    \n",
    "   "
   ]
  },
  {
   "cell_type": "code",
   "execution_count": 12,
   "id": "89ee1bf6-2dc4-4222-9d54-aaf3220231f4",
   "metadata": {},
   "outputs": [
    {
     "name": "stdout",
     "output_type": "stream",
     "text": [
      " Using a while loop, verify if the number A is purely divisible by number B and if so then how many times it can be divisible.\n"
     ]
    }
   ],
   "source": [
    "print(' Using a while loop, verify if the number A is purely divisible by number B and if so then how many times it can be divisible.')"
   ]
  },
  {
   "cell_type": "code",
   "execution_count": 3,
   "id": "17292360-1f92-479e-91b3-4f37b079292b",
   "metadata": {},
   "outputs": [
    {
     "name": "stdout",
     "output_type": "stream",
     "text": [
      "5\n",
      "Not divisible\n"
     ]
    }
   ],
   "source": [
    "a=10\n",
    "b=2\n",
    "count=0\n",
    "while a%b==0:\n",
    "        a=a//b\n",
    "        count=count+1\n",
    "        print(a)\n",
    "print('Not divisible')\n"
   ]
  },
  {
   "cell_type": "code",
   "execution_count": null,
   "id": "e0f75f14-3d7b-4085-b38e-e7c0954a7143",
   "metadata": {},
   "outputs": [],
   "source": []
  },
  {
   "cell_type": "code",
   "execution_count": 5,
   "id": "9f65dbcf-cd05-449c-a610-caa2d3e37987",
   "metadata": {},
   "outputs": [
    {
     "name": "stdout",
     "output_type": "stream",
     "text": [
      "Create a list containing 25 int type data. Using for loop and if-else condition print if the element is divisible by 3 or not.\n",
      "3\n",
      "9\n",
      "6\n",
      "33\n",
      "45\n",
      "30\n",
      "3\n",
      "6\n",
      "33\n"
     ]
    }
   ],
   "source": [
    "print('Create a list containing 25 int type data. Using for loop and if-else condition print if the element is divisible by 3 or not.')\n",
    "l=[1,2,3,34,9,5,6,8,20,55,33,44,45,30,1,2,3,4,5,6,7,8,33]\n",
    "for i in l:\n",
    "    if i%3==0:\n",
    "        print(i)"
   ]
  },
  {
   "cell_type": "code",
   "execution_count": 19,
   "id": "290537b6-455c-409e-b360-51b106f86b4b",
   "metadata": {},
   "outputs": [
    {
     "name": "stdout",
     "output_type": "stream",
     "text": [
      "Q7. What do you understand about mutable and immutable data types? Give examples for both showing this property\n",
      " Mutable  data type are those data type whose value are chegeable while immutable are those where value when asiigned cannot be changes\n",
      "[1, 2.4, 'omkar', 'om']\n",
      "it allows you  to element to list so its muttable\n",
      "[2, 2.4, 'omkar', 'om']\n",
      "[2, 2.4, 'om', 'om']\n",
      "immutable example\n"
     ]
    },
    {
     "ename": "TypeError",
     "evalue": "'tuple' object does not support item assignment",
     "output_type": "error",
     "traceback": [
      "\u001b[0;31m---------------------------------------------------------------------------\u001b[0m",
      "\u001b[0;31mTypeError\u001b[0m                                 Traceback (most recent call last)",
      "Cell \u001b[0;32mIn[19], line 13\u001b[0m\n\u001b[1;32m     11\u001b[0m \u001b[38;5;28mprint\u001b[39m(\u001b[38;5;124m'\u001b[39m\u001b[38;5;124mimmutable example\u001b[39m\u001b[38;5;124m'\u001b[39m)\n\u001b[1;32m     12\u001b[0m tup \u001b[38;5;241m=\u001b[39m ([\u001b[38;5;241m3\u001b[39m, \u001b[38;5;241m4\u001b[39m, \u001b[38;5;241m5\u001b[39m], \u001b[38;5;124m'\u001b[39m\u001b[38;5;124mmyname\u001b[39m\u001b[38;5;124m'\u001b[39m) \n\u001b[0;32m---> 13\u001b[0m \u001b[43mtup\u001b[49m\u001b[43m[\u001b[49m\u001b[38;5;241;43m1\u001b[39;49m\u001b[43m]\u001b[49m\u001b[38;5;241m=\u001b[39m\u001b[38;5;124m'\u001b[39m\u001b[38;5;124momk\u001b[39m\u001b[38;5;124m'\u001b[39m\n",
      "\u001b[0;31mTypeError\u001b[0m: 'tuple' object does not support item assignment"
     ]
    }
   ],
   "source": [
    "print('Q7. What do you understand about mutable and immutable data types? Give examples for both showing this property')\n",
    "print(' Mutable  data type are those data type whose value are chegeable while immutable are those where value when asiigned cannot be changes')\n",
    "l=[1,2.4,'omkar']\n",
    "l.append('om')\n",
    "print(l)\n",
    "print('it allows you  to element to list so its muttable')\n",
    "l[0]=2\n",
    "print(l)\n",
    "l[2]='om'\n",
    "print(l)\n",
    "print('immutable example')\n",
    "tup = ([3, 4, 5], 'myname') \n",
    "tup[1]='omk'"
   ]
  },
  {
   "cell_type": "code",
   "execution_count": null,
   "id": "073298a0-a825-4546-9f52-300a9d8660a8",
   "metadata": {},
   "outputs": [],
   "source": []
  }
 ],
 "metadata": {
  "kernelspec": {
   "display_name": "Python 3 (ipykernel)",
   "language": "python",
   "name": "python3"
  },
  "language_info": {
   "codemirror_mode": {
    "name": "ipython",
    "version": 3
   },
   "file_extension": ".py",
   "mimetype": "text/x-python",
   "name": "python",
   "nbconvert_exporter": "python",
   "pygments_lexer": "ipython3",
   "version": "3.10.8"
  }
 },
 "nbformat": 4,
 "nbformat_minor": 5
}
